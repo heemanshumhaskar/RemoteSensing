{
 "cells": [
  {
   "cell_type": "code",
   "execution_count": 8,
   "id": "4c9de9f5",
   "metadata": {},
   "outputs": [],
   "source": [
    "import os\n",
    "import matplotlib.pyplot as plt\n",
    "from matplotlib import animation"
   ]
  },
  {
   "cell_type": "code",
   "execution_count": 2,
   "id": "41c78743",
   "metadata": {},
   "outputs": [],
   "source": [
    "path_to_images = './output/corrected'\n",
    "images_dir = os.listdir(path_to_images)"
   ]
  },
  {
   "cell_type": "code",
   "execution_count": 31,
   "id": "101704b2",
   "metadata": {
    "scrolled": true
   },
   "outputs": [],
   "source": [
    "ims = []\n",
    "\n",
    "for image in images_dir:\n",
    "    img = ax.imshow(plt.imread(os.path.join(path_to_images, image)), animated = True)\n",
    "    ims.append([img])\n",
    "\n",
    "ani = animation.ArtistAnimation(fig, ims, interval=600)\n",
    "ani.save('bangalore_april.gif')"
   ]
  }
 ],
 "metadata": {
  "kernelspec": {
   "display_name": "Python 3 (ipykernel)",
   "language": "python",
   "name": "python3"
  },
  "language_info": {
   "codemirror_mode": {
    "name": "ipython",
    "version": 3
   },
   "file_extension": ".py",
   "mimetype": "text/x-python",
   "name": "python",
   "nbconvert_exporter": "python",
   "pygments_lexer": "ipython3",
   "version": "3.9.13"
  }
 },
 "nbformat": 4,
 "nbformat_minor": 5
}
