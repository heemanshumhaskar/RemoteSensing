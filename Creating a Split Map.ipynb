{
 "cells": [
  {
   "cell_type": "markdown",
   "id": "295c7cce",
   "metadata": {},
   "source": [
    "# Creating a Split Map\n",
    "ipyleaflet is used to create a split map control. We first create a map with a centre. Left and right layers for the split map are defined using a basemap which then are passed as an argument in the SplitMapControl() function. Finally we add this control to the map we first created. We have our split map ready!"
   ]
  },
  {
   "cell_type": "code",
   "execution_count": 5,
   "id": "a979346c",
   "metadata": {},
   "outputs": [
    {
     "data": {
      "application/vnd.jupyter.widget-view+json": {
       "model_id": "258acaa792f0420990b0474dbcd233f6",
       "version_major": 2,
       "version_minor": 0
      },
      "text/plain": [
       "Map(center=[13.059245282072053, 77.56175994873045], controls=(ZoomControl(options=['position', 'zoom_in_text',…"
      ]
     },
     "metadata": {},
     "output_type": "display_data"
    }
   ],
   "source": [
    "from ipyleaflet import Map, basemaps, basemap_to_tiles, SplitMapControl, ImageOverlay\n",
    "\n",
    "m = Map(center=(13.059245282072053, 77.56175994873045), zoom=10, scroll_wheel_zoom = True)\n",
    "\n",
    "right_layer = basemap_to_tiles(basemaps.OpenStreetMap.Mapnik)\n",
    "left_layer = basemap_to_tiles(basemaps.Esri.WorldImagery, \"2022-04-28\")\n",
    "\n",
    "control = SplitMapControl(left_layer=left_layer, right_layer=right_layer)\n",
    "m.add_control(control)\n",
    "\n",
    "m"
   ]
  },
  {
   "cell_type": "markdown",
   "id": "e4e5ca96",
   "metadata": {},
   "source": [
    "Next, we superimpose an image on an already existing to create one of the two layers. Rest of the procedure is the same."
   ]
  },
  {
   "cell_type": "code",
   "execution_count": 6,
   "id": "73296a15",
   "metadata": {
    "scrolled": false
   },
   "outputs": [
    {
     "data": {
      "application/vnd.jupyter.widget-view+json": {
       "model_id": "ecdb6991b9734a1d88f9c8ff8686932f",
       "version_major": 2,
       "version_minor": 0
      },
      "text/plain": [
       "Map(center=[13.059245282072053, 77.56175994873045], controls=(ZoomControl(options=['position', 'zoom_in_text',…"
      ]
     },
     "metadata": {},
     "output_type": "display_data"
    }
   ],
   "source": [
    "m = Map(center=(13.059245282072053, 77.56175994873045), zoom=10, scroll_wheel_zoom = True)\n",
    "\n",
    "right_layer = ImageOverlay(url='./output/corrected/2022-04-28.png',\n",
    "                           bounds=((12.950025446093232, 77.5495719909668), (13.021784786302488, 77.62699127197266)))\n",
    "left_layer = basemap_to_tiles(basemaps.Esri.WorldImagery, \"2022-04-28\")\n",
    "\n",
    "control = SplitMapControl(left_layer=left_layer, right_layer=right_layer)\n",
    "m.add_control(control)\n",
    "\n",
    "m"
   ]
  }
 ],
 "metadata": {
  "kernelspec": {
   "display_name": "Python 3 (ipykernel)",
   "language": "python",
   "name": "python3"
  },
  "language_info": {
   "codemirror_mode": {
    "name": "ipython",
    "version": 3
   },
   "file_extension": ".py",
   "mimetype": "text/x-python",
   "name": "python",
   "nbconvert_exporter": "python",
   "pygments_lexer": "ipython3",
   "version": "3.9.13"
  }
 },
 "nbformat": 4,
 "nbformat_minor": 5
}
